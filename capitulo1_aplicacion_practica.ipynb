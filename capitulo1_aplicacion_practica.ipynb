{
 "cells": [
  {
   "cell_type": "code",
   "execution_count": 3,
   "metadata": {},
   "outputs": [],
   "source": [
    "#Capitulo #1.  Aplicacion Practica\n",
    "##\n",
    "# El circuito que hemos creado es bastante simple, pero ilustra un concepto fundamental en la computación cuántica: la superposición. Vamos a explorar cómo este concepto podría aplicarse en un escenario del mundo real.\n",
    "#  "
   ]
  },
  {
   "cell_type": "code",
   "execution_count": 4,
   "metadata": {},
   "outputs": [
    {
     "name": "stdout",
     "output_type": "stream",
     "text": [
      "Bits aleatorios generados: [0, 1, 1, 0, 1, 1, 1, 0]\n",
      "Número aleatorio (0-255): 110\n"
     ]
    }
   ],
   "source": [
    "from qiskit import QuantumCircuit, transpile\n",
    "from qiskit_aer import AerSimulator\n",
    "\n",
    "def generate_random_bit():\n",
    "    # Crear el circuito\n",
    "    qc = QuantumCircuit(1, 1)\n",
    "    qc.h(0)  # Aplicar puerta Hadamard\n",
    "    qc.measure(0, 0)\n",
    "\n",
    "    # Simular\n",
    "    simulator = AerSimulator()\n",
    "    compiled_circuit = transpile(qc, simulator)\n",
    "    result = simulator.run(compiled_circuit, shots=1).result()\n",
    "    counts = result.get_counts(compiled_circuit)\n",
    "\n",
    "    # Retornar 0 o 1\n",
    "    return 1 if '1' in counts else 0\n",
    "\n",
    "def generate_random_number(n_bits):\n",
    "    return [generate_random_bit() for _ in range(n_bits)]\n",
    "\n",
    "# Generar un número aleatorio de 8 bits\n",
    "random_bits = generate_random_number(8)\n",
    "random_byte = int(''.join(map(str, random_bits)), 2)\n",
    "\n",
    "print(f\"Bits aleatorios generados: {random_bits}\")\n",
    "print(f\"Número aleatorio (0-255): {random_byte}\")\n"
   ]
  }
 ],
 "metadata": {
  "kernelspec": {
   "display_name": "Python 3",
   "language": "python",
   "name": "python3"
  },
  "language_info": {
   "codemirror_mode": {
    "name": "ipython",
    "version": 3
   },
   "file_extension": ".py",
   "mimetype": "text/x-python",
   "name": "python",
   "nbconvert_exporter": "python",
   "pygments_lexer": "ipython3",
   "version": "3.9.12"
  }
 },
 "nbformat": 4,
 "nbformat_minor": 2
}
