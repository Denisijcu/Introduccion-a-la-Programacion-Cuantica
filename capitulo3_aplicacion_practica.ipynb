{
 "cells": [
  {
   "cell_type": "code",
   "execution_count": 1,
   "metadata": {},
   "outputs": [],
   "source": [
    "#Capitulo 3. Introducción a los Algoritmos Cuánticos\n",
    "#Aplicación: Sistema de Recomendación Cuántico para Búsqueda de Productos\n"
   ]
  },
  {
   "cell_type": "code",
   "execution_count": 2,
   "metadata": {},
   "outputs": [
    {
     "name": "stdout",
     "output_type": "stream",
     "text": [
      "Producto recomendado: Cámara DSLR profesional\n"
     ]
    }
   ],
   "source": [
    "from qiskit import QuantumCircuit, transpile\n",
    "from qiskit_aer import AerSimulator\n",
    "\n",
    "def quantum_search(database):\n",
    "    qc = QuantumCircuit(2, 2)\n",
    "    qc.h([0, 1])\n",
    "    qc.cz(0, 1)\n",
    "    qc.h([0, 1])\n",
    "    qc.z([0, 1])\n",
    "    qc.cz(0, 1)\n",
    "    qc.h([0, 1])\n",
    "    qc.measure([0, 1], [0, 1])\n",
    "\n",
    "    simulator = AerSimulator()\n",
    "    compiled_circuit = transpile(qc, simulator)\n",
    "    result = simulator.run(compiled_circuit, shots=1).result()\n",
    "    counts = result.get_counts(compiled_circuit)\n",
    "    \n",
    "    outcome = list(counts.keys())[0]\n",
    "    return database[int(outcome, 2)]\n",
    "\n",
    "# Ejemplo de uso\n",
    "product_database = [\n",
    "    \"Laptop gaming\",\n",
    "    \"Smartphone de última generación\",\n",
    "    \"Auriculares inalámbricos\",\n",
    "    \"Cámara DSLR profesional\"\n",
    "]\n",
    "\n",
    "recommended_product = quantum_search(product_database)\n",
    "print(f\"Producto recomendado: {recommended_product}\")\n",
    "\n"
   ]
  }
 ],
 "metadata": {
  "kernelspec": {
   "display_name": "Python 3",
   "language": "python",
   "name": "python3"
  },
  "language_info": {
   "codemirror_mode": {
    "name": "ipython",
    "version": 3
   },
   "file_extension": ".py",
   "mimetype": "text/x-python",
   "name": "python",
   "nbconvert_exporter": "python",
   "pygments_lexer": "ipython3",
   "version": "3.9.12"
  }
 },
 "nbformat": 4,
 "nbformat_minor": 2
}
