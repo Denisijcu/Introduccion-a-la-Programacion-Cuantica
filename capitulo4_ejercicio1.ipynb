{
 "cells": [
  {
   "cell_type": "code",
   "execution_count": 1,
   "metadata": {},
   "outputs": [],
   "source": [
    "#Capitulo 4. Herramientas para Programar en Cuántica\n",
    "\n",
    "#Ejercicio 1 Ejecutar tu Primer Circuito Cuántico"
   ]
  },
  {
   "cell_type": "code",
   "execution_count": 2,
   "metadata": {},
   "outputs": [
    {
     "name": "stdout",
     "output_type": "stream",
     "text": [
      "{'00': 504, '11': 520}\n"
     ]
    }
   ],
   "source": [
    "from qiskit import QuantumCircuit\n",
    "from qiskit_aer import AerSimulator  # Usamos AerSimulator en lugar de Aer.get_backend\n",
    "from qiskit import transpile\n",
    "\n",
    "# Crear un circuito cuántico simple\n",
    "qc = QuantumCircuit(2)\n",
    "qc.h(0)  # Aplicar la puerta Hadamard al primer qubit\n",
    "qc.cx(0, 1)  # Aplicar la compuerta CNOT entre los dos qubits\n",
    "qc.measure_all()  # Medir ambos qubits\n",
    "\n",
    "# Transpilar el circuito para el simulador\n",
    "simulator = AerSimulator()  # Crear la instancia del simulador\n",
    "compiled_circuit = transpile(qc, simulator)  # Transpilar para el backend específico\n",
    "\n",
    "# Ejecutar el circuito en el simulador Aer\n",
    "result = simulator.run(compiled_circuit).result()\n",
    "\n",
    "# Mostrar los resultados\n",
    "print(result.get_counts())\n",
    "\n"
   ]
  }
 ],
 "metadata": {
  "kernelspec": {
   "display_name": "Python 3",
   "language": "python",
   "name": "python3"
  },
  "language_info": {
   "codemirror_mode": {
    "name": "ipython",
    "version": 3
   },
   "file_extension": ".py",
   "mimetype": "text/x-python",
   "name": "python",
   "nbconvert_exporter": "python",
   "pygments_lexer": "ipython3",
   "version": "3.9.12"
  }
 },
 "nbformat": 4,
 "nbformat_minor": 2
}
