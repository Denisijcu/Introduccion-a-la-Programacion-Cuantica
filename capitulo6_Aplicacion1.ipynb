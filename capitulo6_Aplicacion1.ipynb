{
 "cells": [
  {
   "cell_type": "code",
   "execution_count": 19,
   "metadata": {},
   "outputs": [],
   "source": [
    "#Capítulo #6 Aplicaciones del Mundo Real de la Computación Cuántica\n",
    "\n",
    "#Aplicacion 1: Criptografía Cuántica y Ciberseguridad\n",
    "\n"
   ]
  },
  {
   "cell_type": "code",
   "execution_count": 20,
   "metadata": {},
   "outputs": [
    {
     "name": "stdout",
     "output_type": "stream",
     "text": [
      "Resultados de medición: {'1011 0000': 61, '0101 0000': 59, '1101 0000': 67, '0010 0000': 69, '0110 0000': 77, '0011 0000': 61, '1100 0000': 68, '1110 0000': 82, '0001 0000': 39, '1111 0000': 59, '0111 0000': 70, '0000 0000': 72, '0100 0000': 67, '1000 0000': 62, '1010 0000': 51, '1001 0000': 60}\n",
      "Factor encontrado: 3\n"
     ]
    }
   ],
   "source": [
    "from qiskit import QuantumCircuit\n",
    "from qiskit.providers.basic_provider import BasicProvider\n",
    "from qiskit.visualization import plot_histogram\n",
    "from math import gcd\n",
    "import numpy as np\n",
    "\n",
    "# Función para simular el Algoritmo de Shor\n",
    "def shor_algorithm(N):\n",
    "    if N % 2 == 0:\n",
    "        return 2\n",
    "    for a in range(2, N):\n",
    "        if gcd(a, N) != 1:\n",
    "            return gcd(a, N)\n",
    "        \n",
    "        # Crear el circuito cuántico\n",
    "        circuit = QuantumCircuit(4, 4)\n",
    "        \n",
    "        # Añadir puertas Hadamard\n",
    "        circuit.h(range(4))\n",
    "        \n",
    "        # Medir todos los qubits\n",
    "        circuit.measure_all()\n",
    "\n",
    "        # Configurar el proveedor y el backend para la simulación\n",
    "        provider = BasicProvider()\n",
    "        backend = provider.get_backend(\"basic_simulator\")\n",
    "\n",
    "        # Ejecutar el circuito en el simulador cuántico\n",
    "        job = backend.run(circuit, shots=1024)\n",
    "        result = job.result()\n",
    "\n",
    "      \n",
    "        \n",
    "        counts = result.get_counts()\n",
    "\n",
    "        print(f\"Resultados de medición: {counts}\")\n",
    "          # Visualizar los resultados\n",
    "        plot_histogram(counts)\n",
    "\n",
    "        \n",
    "    \n",
    "    return \"No se encontró un factor no trivial\"\n",
    "\n",
    "# Probar el algoritmo de Shor con el número 15\n",
    "N = 15\n",
    "result = shor_algorithm(N)\n",
    "print(f\"Factor encontrado: {result}\")\n",
    "\n",
    "\n"
   ]
  }
 ],
 "metadata": {
  "kernelspec": {
   "display_name": "Python 3",
   "language": "python",
   "name": "python3"
  },
  "language_info": {
   "codemirror_mode": {
    "name": "ipython",
    "version": 3
   },
   "file_extension": ".py",
   "mimetype": "text/x-python",
   "name": "python",
   "nbconvert_exporter": "python",
   "pygments_lexer": "ipython3",
   "version": "3.9.12"
  }
 },
 "nbformat": 4,
 "nbformat_minor": 2
}
