{
 "cells": [
  {
   "cell_type": "markdown",
   "metadata": {},
   "source": [
    "#   Single System\n",
    "#Here is an example of a code cell that defines two vectors, ket0 and ket1 , corresponding to the qubit state vectors \n",
    "∣\n",
    "0\n",
    "⟩\n",
    "∣0⟩ and \n",
    "∣\n",
    "1\n",
    "⟩\n",
    ",\n",
    "∣1⟩, and displays their average."
   ]
  },
  {
   "cell_type": "code",
   "execution_count": 231,
   "metadata": {},
   "outputs": [
    {
     "data": {
      "text/plain": [
       "array([0.5, 0.5])"
      ]
     },
     "metadata": {},
     "output_type": "display_data"
    }
   ],
   "source": [
    "from numpy import array\n",
    "\n",
    "ket0 = array([1, 0])\n",
    "ket1 = array([0, 1])\n",
    "\n",
    "display(ket0 / 2 + ket1 / 2)"
   ]
  },
  {
   "cell_type": "markdown",
   "metadata": {},
   "source": [
    "It is not actually necessary to explicitly use the display command to see the result of this computation. We may instead simply write the expression of interest as the last line of the code cell, and it will be returned as its output:"
   ]
  },
  {
   "cell_type": "code",
   "execution_count": 232,
   "metadata": {},
   "outputs": [
    {
     "data": {
      "text/plain": [
       "array([0.5, 0.5])"
      ]
     },
     "execution_count": 232,
     "metadata": {},
     "output_type": "execute_result"
    }
   ],
   "source": [
    "ket0 / 2 + ket1 / 2"
   ]
  },
  {
   "cell_type": "markdown",
   "metadata": {},
   "source": [
    "his code cell also illustrates that running code cells sequentially on a given page of this textbook has a cumulative effect, so it is not necessary to reload the array class or define ket0 and ket1 again. Reloading the page or switching to another page will, however, reset everything to its initial state.\n",
    "\n",
    "As a general guideline, code cells within each subsection of this course are intended to be run sequentially. So, if running a code cell generates an error, be sure to first run all previous code cells within the subsection in which that code cell appears.\n",
    "\n",
    "We can also use array to create matrices that represent operations."
   ]
  },
  {
   "cell_type": "markdown",
   "metadata": {},
   "source": []
  },
  {
   "cell_type": "code",
   "execution_count": 233,
   "metadata": {},
   "outputs": [
    {
     "data": {
      "text/plain": [
       "array([[1. , 1. ],\n",
       "       [0.5, 0. ]])"
      ]
     },
     "execution_count": 233,
     "metadata": {},
     "output_type": "execute_result"
    }
   ],
   "source": [
    "M1 = array([[1, 1], [0, 0]])\n",
    "M2 = array([[1, 1], [1, 0]])\n",
    "\n",
    "M1 / 2 + M2 / 2"
   ]
  },
  {
   "cell_type": "markdown",
   "metadata": {},
   "source": [
    "Matrix multiplication (including matrix-vector multiplication as a special case) can be performed using the matmul function from NumPy :"
   ]
  },
  {
   "cell_type": "code",
   "execution_count": 234,
   "metadata": {},
   "outputs": [
    {
     "data": {
      "text/plain": [
       "array([1, 0])"
      ]
     },
     "metadata": {},
     "output_type": "display_data"
    },
    {
     "data": {
      "text/plain": [
       "array([[2, 1],\n",
       "       [0, 0]])"
      ]
     },
     "metadata": {},
     "output_type": "display_data"
    },
    {
     "data": {
      "text/plain": [
       "array([[1, 1],\n",
       "       [1, 1]])"
      ]
     },
     "metadata": {},
     "output_type": "display_data"
    }
   ],
   "source": [
    "from numpy import matmul\n",
    "\n",
    "display(matmul(M1, ket1))\n",
    "display(matmul(M1, M2))\n",
    "display(matmul(M2, M1))"
   ]
  },
  {
   "cell_type": "markdown",
   "metadata": {},
   "source": [
    "States, measurements, and operations\n",
    "Qiskit includes several classes that allow for states, measurements, and operations to be easily created and manipulated — so starting from scratch and programming everything that is needed to simulate quantum states, measurements, and operations in Python is not required. Some examples to get started are included below.\n",
    "\n",
    "Defining and displaying state vectors\n",
    "Qiskit's Statevector class provides functionality for defining and manipulating quantum state vectors. The following code cell imports the Statevector class and defines a few vectors using it. (Note that we need the sqrt function from the NumPy library to compute the square roots for the vector u .)"
   ]
  },
  {
   "cell_type": "code",
   "execution_count": 235,
   "metadata": {},
   "outputs": [
    {
     "name": "stdout",
     "output_type": "stream",
     "text": [
      "State vectors u, v, and w have been defined.\n"
     ]
    }
   ],
   "source": [
    "from qiskit.quantum_info import Statevector\n",
    "from numpy import sqrt\n",
    "\n",
    "u = Statevector([1 / sqrt(2), 1 / sqrt(2)])\n",
    "v = Statevector([(1 + 2.0j) / 3, -2 / 3])\n",
    "w = Statevector([1 / 3, 2 / 3])\n",
    "\n",
    "print(\"State vectors u, v, and w have been defined.\")"
   ]
  },
  {
   "cell_type": "markdown",
   "metadata": {},
   "source": [
    "The Statevector class provides a drawCopy to clipboard method for displaying state vectors, including latex and text options for different visualizations, as this code cell demonstrates:"
   ]
  },
  {
   "cell_type": "code",
   "execution_count": 236,
   "metadata": {},
   "outputs": [
    {
     "data": {
      "text/latex": [
       "$$\\frac{\\sqrt{2}}{2} |0\\rangle+\\frac{\\sqrt{2}}{2} |1\\rangle$$"
      ],
      "text/plain": [
       "<IPython.core.display.Latex object>"
      ]
     },
     "metadata": {},
     "output_type": "display_data"
    },
    {
     "data": {
      "text/plain": [
       "[ 0.33333333+0.66666667j,-0.66666667+0.j        ]"
      ]
     },
     "metadata": {},
     "output_type": "display_data"
    }
   ],
   "source": [
    "display(u.draw(\"latex\"))\n",
    "display(v.draw(\"text\"))"
   ]
  },
  {
   "cell_type": "markdown",
   "metadata": {},
   "source": [
    "The Statevector class also includes the is_valid method, which checks to see if a given vector is a valid quantum state vector (i.e., that it has Euclidean norm equal to 1):"
   ]
  },
  {
   "cell_type": "code",
   "execution_count": 237,
   "metadata": {},
   "outputs": [
    {
     "data": {
      "text/plain": [
       "True"
      ]
     },
     "metadata": {},
     "output_type": "display_data"
    },
    {
     "data": {
      "text/plain": [
       "False"
      ]
     },
     "metadata": {},
     "output_type": "display_data"
    }
   ],
   "source": [
    "display(u.is_valid())\n",
    "display(w.is_valid())"
   ]
  },
  {
   "cell_type": "markdown",
   "metadata": {},
   "source": [
    "Simulating measurements using Statevector\n",
    "Next we will see one way that measurements of quantum states can be simulated in Qiskit, using the measure method from the Statevector class.\n",
    "\n",
    "First, we create a qubit state vector v and then display it."
   ]
  },
  {
   "cell_type": "code",
   "execution_count": 238,
   "metadata": {},
   "outputs": [
    {
     "data": {
      "text/latex": [
       "$$(\\frac{1}{3} + \\frac{2 i}{3}) |0\\rangle- \\frac{2}{3} |1\\rangle$$"
      ],
      "text/plain": [
       "<IPython.core.display.Latex object>"
      ]
     },
     "execution_count": 238,
     "metadata": {},
     "output_type": "execute_result"
    }
   ],
   "source": [
    "v = Statevector([(1 + 2.0j) / 3, -2 / 3])\n",
    "v.draw(\"latex\")"
   ]
  },
  {
   "cell_type": "markdown",
   "metadata": {},
   "source": [
    "Code cells can be modified — so go ahead and change the specification of the vector if you wish.\n",
    "\n",
    "Next, running the measure method simulates a standard basis measurement. It returns the result of that measurement, plus the new quantum state of our system after that measurement."
   ]
  },
  {
   "cell_type": "code",
   "execution_count": 239,
   "metadata": {},
   "outputs": [
    {
     "data": {
      "text/plain": [
       "(np.str_('0'),\n",
       " Statevector([0.4472136+0.89442719j, 0.       +0.j        ],\n",
       "             dims=(2,)))"
      ]
     },
     "execution_count": 239,
     "metadata": {},
     "output_type": "execute_result"
    }
   ],
   "source": [
    "v.measure()"
   ]
  },
  {
   "cell_type": "markdown",
   "metadata": {},
   "source": [
    "Measurement outcomes are probabilistic, so the same method can return different results. Try running the cell a few times to see this.\n",
    "\n",
    "For the particular example of the vector v defined above, the measure method defines the quantum state vector after the measurement takes place to be\n",
    "\n",
    "1\n",
    "+\n",
    "2\n",
    "i\n",
    "5\n",
    "∣\n",
    "0\n",
    "⟩\n",
    "5\n",
    "​\n",
    " \n",
    "1+2i\n",
    "​\n",
    " ∣0⟩\n",
    "(rather than \n",
    "∣\n",
    "0\n",
    "⟩\n",
    "∣0⟩) or\n",
    "\n",
    "−\n",
    "∣\n",
    "1\n",
    "⟩\n",
    "−∣1⟩\n",
    "(rather than \n",
    "∣\n",
    "1\n",
    "⟩\n",
    "∣1⟩), depending on the measurement outcome. In both cases the alternatives are, in fact, equivalent — they are said to differ by a global phase because one is equal to the other multiplied by a complex number on the unit circle. This issue is discussed in greater detail in Lesson 3, and can safely be ignored for now.\n",
    "\n",
    "As an aside, Statevector will throw an error if the measure method is applied to an invalid quantum state vector. Feel free to give it a try if you're interested in seeing what an error looks like.\n",
    "\n",
    "Statevector also comes with a sample_counts method that allows for the simulation of any number of measurements on the system. For example, the following cell shows the outcome of measuring the vector v \n",
    "1000\n",
    "1000 times, which (with high probability) results in the outcome \n",
    "0\n",
    "0 approximately \n",
    "5\n",
    "5 out of every \n",
    "9\n",
    "9 times (or about \n",
    "556\n",
    "556 of the \n",
    "1000\n",
    "1000 trials) and the the outcome \n",
    "1\n",
    "1 approximately \n",
    "4\n",
    "4 out of every \n",
    "9\n",
    "9 times (or about \n",
    "444\n",
    "444 out of the \n",
    "1000\n",
    "1000 trials). The cell also demonstrates the plot_histogram function for visualizing the results."
   ]
  },
  {
   "cell_type": "code",
   "execution_count": 240,
   "metadata": {},
   "outputs": [
    {
     "data": {
      "text/plain": [
       "{np.str_('0'): np.int64(577), np.str_('1'): np.int64(423)}"
      ]
     },
     "metadata": {},
     "output_type": "display_data"
    },
    {
     "data": {
      "image/png": "[encoded data removed]",
      "text/plain": [
       "<Figure size 640x480 with 1 Axes>"
      ]
     },
     "execution_count": 240,
     "metadata": {},
     "output_type": "execute_result"
    }
   ],
   "source": [
    "from qiskit.visualization import plot_histogram\n",
    "\n",
    "statistics = v.sample_counts(1000)\n",
    "display(statistics)\n",
    "plot_histogram(statistics)"
   ]
  },
  {
   "cell_type": "markdown",
   "metadata": {},
   "source": [
    "Running the cell multiple times and trying different numbers of samples in place of \n",
    "1000\n",
    "1000 may be helpful for developing some intuition for how the number of trials influences the estimated probabilities.\n",
    "\n",
    "Performing operations with Operator and Statevector\n",
    "Unitary operations can be defined and performed on state vectors in Qiskit using the Operator class, as in the example that follows."
   ]
  },
  {
   "cell_type": "code",
   "execution_count": 241,
   "metadata": {},
   "outputs": [
    {
     "data": {
      "text/plain": [
       "[ 0.85355339+0.35355339j,-0.35355339+0.14644661j]"
      ]
     },
     "execution_count": 241,
     "metadata": {},
     "output_type": "execute_result"
    }
   ],
   "source": [
    "from qiskit.quantum_info import Operator\n",
    "\n",
    "X = Operator([[0, 1], [1, 0]])\n",
    "Y = Operator([[0, -1.0j], [1.0j, 0]])\n",
    "Z = Operator([[1, 0], [0, -1]])\n",
    "H = Operator([[1 / sqrt(2), 1 / sqrt(2)], [1 / sqrt(2), -1 / sqrt(2)]])\n",
    "S = Operator([[1, 0], [0, 1.0j]])\n",
    "T = Operator([[1, 0], [0, (1 + 1.0j) / sqrt(2)]])\n",
    "\n",
    "v = Statevector([1, 0])\n",
    "\n",
    "v = v.evolve(H)\n",
    "v = v.evolve(T)\n",
    "v = v.evolve(H)\n",
    "v = v.evolve(T)\n",
    "v = v.evolve(Z)\n",
    "\n",
    "v.draw(\"text\")"
   ]
  },
  {
   "cell_type": "markdown",
   "metadata": {},
   "source": [
    "Looking ahead toward quantum circuits\n",
    "Quantum circuits won't be formally introduced until Lesson 3, but we can nevertheless experiment with composing qubit unitary operations using Qiskit's QuantumCircuit class. In particular, we may define a quantum circuit (which in this case will simply be a sequence of unitary operations performed on a single qubit) as follows."
   ]
  },
  {
   "cell_type": "code",
   "execution_count": 242,
   "metadata": {},
   "outputs": [
    {
     "data": {
      "text/html": [
       "<pre style=\"word-wrap: normal;white-space: pre;background: #fff0;line-height: 1.1;font-family: &quot;Courier New&quot;,Courier,monospace\">   ┌───┐┌───┐┌───┐┌───┐┌───┐\n",
       "q: ┤ H ├┤ T ├┤ H ├┤ T ├┤ Z ├\n",
       "   └───┘└───┘└───┘└───┘└───┘</pre>"
      ],
      "text/plain": [
       "   ┌───┐┌───┐┌───┐┌───┐┌───┐\n",
       "q: ┤ H ├┤ T ├┤ H ├┤ T ├┤ Z ├\n",
       "   └───┘└───┘└───┘└───┘└───┘"
      ]
     },
     "execution_count": 242,
     "metadata": {},
     "output_type": "execute_result"
    }
   ],
   "source": [
    "from qiskit import QuantumCircuit\n",
    "\n",
    "circuit = QuantumCircuit(1)\n",
    "\n",
    "circuit.h(0)\n",
    "circuit.t(0)\n",
    "circuit.h(0)\n",
    "circuit.t(0)\n",
    "circuit.z(0)\n",
    "\n",
    "circuit.draw()"
   ]
  },
  {
   "cell_type": "markdown",
   "metadata": {},
   "source": [
    "The operations are applied sequentially, starting on the left and ending on the right in the figure. Let us first initialize a starting quantum state vector and then evolve that state according to the sequence of operations."
   ]
  },
  {
   "cell_type": "code",
   "execution_count": 243,
   "metadata": {},
   "outputs": [
    {
     "data": {
      "text/plain": [
       "[ 0.85355339+0.35355339j,-0.35355339+0.14644661j]"
      ]
     },
     "execution_count": 243,
     "metadata": {},
     "output_type": "execute_result"
    }
   ],
   "source": [
    "ket0 = Statevector([1, 0])\n",
    "v = ket0.evolve(circuit)\n",
    "v.draw(\"text\")"
   ]
  },
  {
   "cell_type": "markdown",
   "metadata": {},
   "source": [
    "Finally, let's simulate the result of running this experiment (i.e., preparing the state \n",
    "∣\n",
    "0\n",
    "⟩\n",
    ",\n",
    "∣0⟩, applying the sequence of operations represented by the circuit, and measuring) 4000 times."
   ]
  },
  {
   "cell_type": "code",
   "execution_count": 244,
   "metadata": {},
   "outputs": [
    {
     "data": {
      "image/png": "[encoded data removed]",
      "text/plain": [
       "<Figure size 640x480 with 1 Axes>"
      ]
     },
     "execution_count": 244,
     "metadata": {},
     "output_type": "execute_result"
    }
   ],
   "source": [
    "statistics = v.sample_counts(4000)\n",
    "plot_histogram(statistics)"
   ]
  }
 ],
 "metadata": {
  "kernelspec": {
   "display_name": "Python 3",
   "language": "python",
   "name": "python3"
  },
  "language_info": {
   "codemirror_mode": {
    "name": "ipython",
    "version": 3
   },
   "file_extension": ".py",
   "mimetype": "text/x-python",
   "name": "python",
   "nbconvert_exporter": "python",
   "pygments_lexer": "ipython3",
   "version": "3.9.12"
  }
 },
 "nbformat": 4,
 "nbformat_minor": 2
}
