{
 "cells": [
  {
   "cell_type": "code",
   "execution_count": 1,
   "metadata": {},
   "outputs": [],
   "source": [
    "#Capitulo 5. Proyectos Sencillos\n",
    "#Proyecto 2: Simulación de un Algoritmo Cuántico\n"
   ]
  },
  {
   "cell_type": "code",
   "execution_count": 2,
   "metadata": {},
   "outputs": [
    {
     "ename": "ImportError",
     "evalue": "cannot import name 'Aer' from 'qiskit' (d:\\Seccion B\\Lab\\programacion_cuantica\\booksprogracion_cuantica_env\\lib\\site-packages\\qiskit\\__init__.py)",
     "output_type": "error",
     "traceback": [
      "\u001b[1;31m---------------------------------------------------------------------------\u001b[0m",
      "\u001b[1;31mImportError\u001b[0m                               Traceback (most recent call last)",
      "Cell \u001b[1;32mIn[2], line 3\u001b[0m\n\u001b[0;32m      1\u001b[0m \u001b[38;5;66;03m#Algoritmo de Deutsch-Jozsa utilizando las versiones más recientes de Qiskit:\u001b[39;00m\n\u001b[1;32m----> 3\u001b[0m \u001b[38;5;28;01mfrom\u001b[39;00m \u001b[38;5;21;01mqiskit\u001b[39;00m \u001b[38;5;28;01mimport\u001b[39;00m QuantumCircuit, Aer, execute\n\u001b[0;32m      5\u001b[0m \u001b[38;5;66;03m# Crear el circuito de Deutsch-Jozsa con 2 qubits y 2 bits clásicos\u001b[39;00m\n\u001b[0;32m      6\u001b[0m circuit \u001b[38;5;241m=\u001b[39m QuantumCircuit(\u001b[38;5;241m2\u001b[39m, \u001b[38;5;241m2\u001b[39m)\n",
      "\u001b[1;31mImportError\u001b[0m: cannot import name 'Aer' from 'qiskit' (d:\\Seccion B\\Lab\\programacion_cuantica\\booksprogracion_cuantica_env\\lib\\site-packages\\qiskit\\__init__.py)"
     ]
    }
   ],
   "source": [
    " #Algoritmo de Deutsch-Jozsa utilizando las versiones más recientes de Qiskit:\n",
    "\n",
    "from qiskit import QuantumCircuit, Aer, execute\n",
    "\n",
    "# Crear el circuito de Deutsch-Jozsa con 2 qubits y 2 bits clásicos\n",
    "circuit = QuantumCircuit(2, 2)\n",
    "\n",
    "# Aplicar Hadamard a ambos qubits\n",
    "circuit.h([0, 1])\n",
    "\n",
    "# Aplicar una puerta X al segundo qubit (estado de trabajo)\n",
    "circuit.x(1)\n",
    "\n",
    "# Aplicar Hadamard nuevamente al primer qubit\n",
    "circuit.h(0)\n",
    "\n",
    "# Medir ambos qubits\n",
    "circuit.measure([0, 1], [0, 1])\n",
    "\n",
    "# Ejecutar el circuito en el simulador\n",
    "simulator = Aer.get_backend('qasm_simulator')\n",
    "job = execute(circuit, simulator, shots=1024)\n",
    "\n",
    "# Obtener los resultados\n",
    "result = job.result()\n",
    "counts = result.get_counts()\n",
    "\n",
    "# Mostrar los resultados\n",
    "print(f\"Resultados de la simulación: {counts}\")\n",
    "\n",
    "# Dibujar el circuito\n",
    "circuit.draw(output='mpl')\n"
   ]
  }
 ],
 "metadata": {
  "kernelspec": {
   "display_name": "Python 3",
   "language": "python",
   "name": "python3"
  },
  "language_info": {
   "codemirror_mode": {
    "name": "ipython",
    "version": 3
   },
   "file_extension": ".py",
   "mimetype": "text/x-python",
   "name": "python",
   "nbconvert_exporter": "python",
   "pygments_lexer": "ipython3",
   "version": "3.9.12"
  }
 },
 "nbformat": 4,
 "nbformat_minor": 2
}
