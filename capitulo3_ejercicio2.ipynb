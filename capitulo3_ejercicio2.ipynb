{
 "cells": [
  {
   "cell_type": "code",
   "execution_count": 3,
   "metadata": {},
   "outputs": [],
   "source": [
    "#Capitulo 3:Introducción a los Algoritmos Cuánticos\n",
    "#Algoritmo de Shor: Factorización Cuántica\n",
    "#Este algoritmo ha sufrido cambios en las ultimas actualizacion de la plataforma Qiskit"
   ]
  },
  {
   "cell_type": "code",
   "execution_count": 4,
   "metadata": {},
   "outputs": [
    {
     "ename": "ImportError",
     "evalue": "cannot import name 'Shor' from 'qiskit_algorithms' (d:\\Seccion B\\Lab\\programacion_cuantica\\booksprogracion_cuantica_env\\lib\\site-packages\\qiskit_algorithms\\__init__.py)",
     "output_type": "error",
     "traceback": [
      "\u001b[1;31m---------------------------------------------------------------------------\u001b[0m",
      "\u001b[1;31mImportError\u001b[0m                               Traceback (most recent call last)",
      "Cell \u001b[1;32mIn[4], line 3\u001b[0m\n\u001b[0;32m      1\u001b[0m \u001b[38;5;28;01mfrom\u001b[39;00m \u001b[38;5;21;01mqiskit\u001b[39;00m \u001b[38;5;28;01mimport\u001b[39;00m QuantumCircuit\n\u001b[0;32m      2\u001b[0m \u001b[38;5;28;01mfrom\u001b[39;00m \u001b[38;5;21;01mqiskit_aer\u001b[39;00m \u001b[38;5;28;01mimport\u001b[39;00m AerSimulator\n\u001b[1;32m----> 3\u001b[0m \u001b[38;5;28;01mfrom\u001b[39;00m \u001b[38;5;21;01mqiskit_algorithms\u001b[39;00m \u001b[38;5;28;01mimport\u001b[39;00m Shor\n\u001b[0;32m      4\u001b[0m \u001b[38;5;28;01mfrom\u001b[39;00m \u001b[38;5;21;01mqiskit\u001b[39;00m\u001b[38;5;21;01m.\u001b[39;00m\u001b[38;5;21;01mprimitives\u001b[39;00m \u001b[38;5;28;01mimport\u001b[39;00m Sampler\n\u001b[0;32m      6\u001b[0m \u001b[38;5;66;03m# Configuramos el simulador\u001b[39;00m\n",
      "\u001b[1;31mImportError\u001b[0m: cannot import name 'Shor' from 'qiskit_algorithms' (d:\\Seccion B\\Lab\\programacion_cuantica\\booksprogracion_cuantica_env\\lib\\site-packages\\qiskit_algorithms\\__init__.py)"
     ]
    }
   ],
   "source": [
    "from qiskit import QuantumCircuit\n",
    "from qiskit_aer import AerSimulator\n",
    "from qiskit_algorithms import Shor  \n",
    "from qiskit.primitives import Sampler\n",
    "\n",
    "# Configuramos el simulador\n",
    "simulator = AerSimulator()\n",
    "\n",
    "# Creamos el algoritmo de Shor para factorizar el número 15\n",
    "shor = Shor(sampler=Sampler())\n",
    "\n",
    "# Ejecutamos el algoritmo\n",
    "result = shor.factor(15)\n",
    "\n",
    "# Mostramos los factores encontrados\n",
    "print(f\"Los factores de 15 son: {result.factors}\")\n"
   ]
  }
 ],
 "metadata": {
  "kernelspec": {
   "display_name": "Python 3",
   "language": "python",
   "name": "python3"
  },
  "language_info": {
   "codemirror_mode": {
    "name": "ipython",
    "version": 3
   },
   "file_extension": ".py",
   "mimetype": "text/x-python",
   "name": "python",
   "nbconvert_exporter": "python",
   "pygments_lexer": "ipython3",
   "version": "3.9.12"
  }
 },
 "nbformat": 4,
 "nbformat_minor": 2
}
