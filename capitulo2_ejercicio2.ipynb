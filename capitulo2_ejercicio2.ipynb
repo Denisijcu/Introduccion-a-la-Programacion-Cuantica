{
 "cells": [
  {
   "cell_type": "code",
   "execution_count": 1,
   "metadata": {},
   "outputs": [],
   "source": [
    "#Capitulo #2 Diferencias entre Computación Clásica y Cuántica\n",
    "#ejercicio 2: Aplicación: Sistema de Toma de Decisiones Cuántico\n"
   ]
  },
  {
   "cell_type": "code",
   "execution_count": 2,
   "metadata": {},
   "outputs": [
    {
     "name": "stdout",
     "output_type": "stream",
     "text": [
      "La decisión cuántica es: Diversificar en criptomonedas\n"
     ]
    }
   ],
   "source": [
    "from qiskit import QuantumCircuit, transpile\n",
    "from qiskit_aer import AerSimulator\n",
    "\n",
    "def quantum_decision(options):\n",
    "    if len(options) != 4:\n",
    "        raise ValueError(\"Este sistema requiere exactamente 4 opciones\")\n",
    "\n",
    "    circuit = QuantumCircuit(2, 2)\n",
    "    circuit.h([0, 1])\n",
    "    circuit.measure([0, 1], [0, 1])\n",
    "\n",
    "    simulator = AerSimulator()\n",
    "    compiled_circuit = transpile(circuit, simulator)\n",
    "    result = simulator.run(compiled_circuit, shots=1).result()\n",
    "    counts = result.get_counts(compiled_circuit)\n",
    "    \n",
    "    outcome = list(counts.keys())[0]\n",
    "    return options[int(outcome, 2)]\n",
    "\n",
    "# Ejemplo de uso\n",
    "options = [\"Invertir en acciones\", \"Invertir en bonos\", \"Mantener efectivo\", \"Diversificar en criptomonedas\"]\n",
    "decision = quantum_decision(options)\n",
    "print(f\"La decisión cuántica es: {decision}\")\n",
    "\n"
   ]
  }
 ],
 "metadata": {
  "kernelspec": {
   "display_name": "Python 3",
   "language": "python",
   "name": "python3"
  },
  "language_info": {
   "codemirror_mode": {
    "name": "ipython",
    "version": 3
   },
   "file_extension": ".py",
   "mimetype": "text/x-python",
   "name": "python",
   "nbconvert_exporter": "python",
   "pygments_lexer": "ipython3",
   "version": "3.9.12"
  }
 },
 "nbformat": 4,
 "nbformat_minor": 2
}
